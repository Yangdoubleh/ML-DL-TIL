{
  "nbformat": 4,
  "nbformat_minor": 0,
  "metadata": {
    "colab": {
      "name": "로지스틱_회귀.ipynb",
      "provenance": [],
      "authorship_tag": "ABX9TyPFMjQzU3tuTpwWjOHc5NE5",
      "include_colab_link": true
    },
    "kernelspec": {
      "name": "python3",
      "display_name": "Python 3"
    },
    "language_info": {
      "name": "python"
    }
  },
  "cells": [
    {
      "cell_type": "markdown",
      "metadata": {
        "id": "view-in-github",
        "colab_type": "text"
      },
      "source": [
        "<a href=\"https://colab.research.google.com/github/Yangdoubleh/ML-DL-TIL/blob/master/%EB%A1%9C%EC%A7%80%EC%8A%A4%ED%8B%B1_%ED%9A%8C%EA%B7%80.ipynb\" target=\"_parent\"><img src=\"https://colab.research.google.com/assets/colab-badge.svg\" alt=\"Open In Colab\"/></a>"
      ]
    },
    {
      "cell_type": "code",
      "execution_count": 24,
      "metadata": {
        "colab": {
          "base_uri": "https://localhost:8080/",
          "height": 206
        },
        "id": "aZVpTT41TSVk",
        "outputId": "b205cd8f-11d3-4d45-954f-d66852c0fcbf"
      },
      "outputs": [
        {
          "output_type": "execute_result",
          "data": {
            "text/html": [
              "\n",
              "  <div id=\"df-ecb1ee5e-f76d-4cdc-8da1-6ac06354117a\">\n",
              "    <div class=\"colab-df-container\">\n",
              "      <div>\n",
              "<style scoped>\n",
              "    .dataframe tbody tr th:only-of-type {\n",
              "        vertical-align: middle;\n",
              "    }\n",
              "\n",
              "    .dataframe tbody tr th {\n",
              "        vertical-align: top;\n",
              "    }\n",
              "\n",
              "    .dataframe thead th {\n",
              "        text-align: right;\n",
              "    }\n",
              "</style>\n",
              "<table border=\"1\" class=\"dataframe\">\n",
              "  <thead>\n",
              "    <tr style=\"text-align: right;\">\n",
              "      <th></th>\n",
              "      <th>Species</th>\n",
              "      <th>Weight</th>\n",
              "      <th>Length</th>\n",
              "      <th>Diagonal</th>\n",
              "      <th>Height</th>\n",
              "      <th>Width</th>\n",
              "    </tr>\n",
              "  </thead>\n",
              "  <tbody>\n",
              "    <tr>\n",
              "      <th>0</th>\n",
              "      <td>Bream</td>\n",
              "      <td>242.0</td>\n",
              "      <td>25.4</td>\n",
              "      <td>30.0</td>\n",
              "      <td>11.5200</td>\n",
              "      <td>4.0200</td>\n",
              "    </tr>\n",
              "    <tr>\n",
              "      <th>1</th>\n",
              "      <td>Bream</td>\n",
              "      <td>290.0</td>\n",
              "      <td>26.3</td>\n",
              "      <td>31.2</td>\n",
              "      <td>12.4800</td>\n",
              "      <td>4.3056</td>\n",
              "    </tr>\n",
              "    <tr>\n",
              "      <th>2</th>\n",
              "      <td>Bream</td>\n",
              "      <td>340.0</td>\n",
              "      <td>26.5</td>\n",
              "      <td>31.1</td>\n",
              "      <td>12.3778</td>\n",
              "      <td>4.6961</td>\n",
              "    </tr>\n",
              "    <tr>\n",
              "      <th>3</th>\n",
              "      <td>Bream</td>\n",
              "      <td>363.0</td>\n",
              "      <td>29.0</td>\n",
              "      <td>33.5</td>\n",
              "      <td>12.7300</td>\n",
              "      <td>4.4555</td>\n",
              "    </tr>\n",
              "    <tr>\n",
              "      <th>4</th>\n",
              "      <td>Bream</td>\n",
              "      <td>430.0</td>\n",
              "      <td>29.0</td>\n",
              "      <td>34.0</td>\n",
              "      <td>12.4440</td>\n",
              "      <td>5.1340</td>\n",
              "    </tr>\n",
              "  </tbody>\n",
              "</table>\n",
              "</div>\n",
              "      <button class=\"colab-df-convert\" onclick=\"convertToInteractive('df-ecb1ee5e-f76d-4cdc-8da1-6ac06354117a')\"\n",
              "              title=\"Convert this dataframe to an interactive table.\"\n",
              "              style=\"display:none;\">\n",
              "        \n",
              "  <svg xmlns=\"http://www.w3.org/2000/svg\" height=\"24px\"viewBox=\"0 0 24 24\"\n",
              "       width=\"24px\">\n",
              "    <path d=\"M0 0h24v24H0V0z\" fill=\"none\"/>\n",
              "    <path d=\"M18.56 5.44l.94 2.06.94-2.06 2.06-.94-2.06-.94-.94-2.06-.94 2.06-2.06.94zm-11 1L8.5 8.5l.94-2.06 2.06-.94-2.06-.94L8.5 2.5l-.94 2.06-2.06.94zm10 10l.94 2.06.94-2.06 2.06-.94-2.06-.94-.94-2.06-.94 2.06-2.06.94z\"/><path d=\"M17.41 7.96l-1.37-1.37c-.4-.4-.92-.59-1.43-.59-.52 0-1.04.2-1.43.59L10.3 9.45l-7.72 7.72c-.78.78-.78 2.05 0 2.83L4 21.41c.39.39.9.59 1.41.59.51 0 1.02-.2 1.41-.59l7.78-7.78 2.81-2.81c.8-.78.8-2.07 0-2.86zM5.41 20L4 18.59l7.72-7.72 1.47 1.35L5.41 20z\"/>\n",
              "  </svg>\n",
              "      </button>\n",
              "      \n",
              "  <style>\n",
              "    .colab-df-container {\n",
              "      display:flex;\n",
              "      flex-wrap:wrap;\n",
              "      gap: 12px;\n",
              "    }\n",
              "\n",
              "    .colab-df-convert {\n",
              "      background-color: #E8F0FE;\n",
              "      border: none;\n",
              "      border-radius: 50%;\n",
              "      cursor: pointer;\n",
              "      display: none;\n",
              "      fill: #1967D2;\n",
              "      height: 32px;\n",
              "      padding: 0 0 0 0;\n",
              "      width: 32px;\n",
              "    }\n",
              "\n",
              "    .colab-df-convert:hover {\n",
              "      background-color: #E2EBFA;\n",
              "      box-shadow: 0px 1px 2px rgba(60, 64, 67, 0.3), 0px 1px 3px 1px rgba(60, 64, 67, 0.15);\n",
              "      fill: #174EA6;\n",
              "    }\n",
              "\n",
              "    [theme=dark] .colab-df-convert {\n",
              "      background-color: #3B4455;\n",
              "      fill: #D2E3FC;\n",
              "    }\n",
              "\n",
              "    [theme=dark] .colab-df-convert:hover {\n",
              "      background-color: #434B5C;\n",
              "      box-shadow: 0px 1px 3px 1px rgba(0, 0, 0, 0.15);\n",
              "      filter: drop-shadow(0px 1px 2px rgba(0, 0, 0, 0.3));\n",
              "      fill: #FFFFFF;\n",
              "    }\n",
              "  </style>\n",
              "\n",
              "      <script>\n",
              "        const buttonEl =\n",
              "          document.querySelector('#df-ecb1ee5e-f76d-4cdc-8da1-6ac06354117a button.colab-df-convert');\n",
              "        buttonEl.style.display =\n",
              "          google.colab.kernel.accessAllowed ? 'block' : 'none';\n",
              "\n",
              "        async function convertToInteractive(key) {\n",
              "          const element = document.querySelector('#df-ecb1ee5e-f76d-4cdc-8da1-6ac06354117a');\n",
              "          const dataTable =\n",
              "            await google.colab.kernel.invokeFunction('convertToInteractive',\n",
              "                                                     [key], {});\n",
              "          if (!dataTable) return;\n",
              "\n",
              "          const docLinkHtml = 'Like what you see? Visit the ' +\n",
              "            '<a target=\"_blank\" href=https://colab.research.google.com/notebooks/data_table.ipynb>data table notebook</a>'\n",
              "            + ' to learn more about interactive tables.';\n",
              "          element.innerHTML = '';\n",
              "          dataTable['output_type'] = 'display_data';\n",
              "          await google.colab.output.renderOutput(dataTable, element);\n",
              "          const docLink = document.createElement('div');\n",
              "          docLink.innerHTML = docLinkHtml;\n",
              "          element.appendChild(docLink);\n",
              "        }\n",
              "      </script>\n",
              "    </div>\n",
              "  </div>\n",
              "  "
            ],
            "text/plain": [
              "  Species  Weight  Length  Diagonal   Height   Width\n",
              "0   Bream   242.0    25.4      30.0  11.5200  4.0200\n",
              "1   Bream   290.0    26.3      31.2  12.4800  4.3056\n",
              "2   Bream   340.0    26.5      31.1  12.3778  4.6961\n",
              "3   Bream   363.0    29.0      33.5  12.7300  4.4555\n",
              "4   Bream   430.0    29.0      34.0  12.4440  5.1340"
            ]
          },
          "metadata": {},
          "execution_count": 24
        }
      ],
      "source": [
        "import pandas as pd\n",
        "import numpy as np\n",
        "import matplotlib.pyplot as plt\n",
        "fish = pd.read_csv('https://bit.ly/fish_csv_data')\n",
        "fish.head()"
      ]
    },
    {
      "cell_type": "code",
      "source": [
        "# Species 열의 고유한 값 추출\n",
        "print(pd.unique(fish['Species']))"
      ],
      "metadata": {
        "colab": {
          "base_uri": "https://localhost:8080/"
        },
        "id": "tqDU_wQWXIPP",
        "outputId": "9a1044f2-417c-46f1-8204-90338d6390dc"
      },
      "execution_count": 25,
      "outputs": [
        {
          "output_type": "stream",
          "name": "stdout",
          "text": [
            "['Bream' 'Roach' 'Whitefish' 'Parkki' 'Perch' 'Pike' 'Smelt']\n"
          ]
        }
      ]
    },
    {
      "cell_type": "code",
      "source": [
        "fish_input = fish[['Weight', 'Length', 'Diagonal', 'Height', 'Width']].to_numpy()\n",
        "print(fish_input[:5])"
      ],
      "metadata": {
        "colab": {
          "base_uri": "https://localhost:8080/"
        },
        "id": "-lO_HwvCYErL",
        "outputId": "c46ca323-020f-4eae-995a-d850ecaad4a8"
      },
      "execution_count": 26,
      "outputs": [
        {
          "output_type": "stream",
          "name": "stdout",
          "text": [
            "[[242.      25.4     30.      11.52     4.02  ]\n",
            " [290.      26.3     31.2     12.48     4.3056]\n",
            " [340.      26.5     31.1     12.3778   4.6961]\n",
            " [363.      29.      33.5     12.73     4.4555]\n",
            " [430.      29.      34.      12.444    5.134 ]]\n"
          ]
        }
      ]
    },
    {
      "cell_type": "code",
      "source": [
        "fish_target = fish['Species'].to_numpy()\n",
        "#훈련데이터와 테스트데이터 분류\n",
        "from sklearn.model_selection import train_test_split\n",
        "train_input, test_input, train_target, test_target = train_test_split(fish_input, fish_target, random_state=42)"
      ],
      "metadata": {
        "id": "YVLlZCjMZIGo"
      },
      "execution_count": 27,
      "outputs": []
    },
    {
      "cell_type": "code",
      "source": [
        "#표준화 처리\n",
        "from sklearn.preprocessing import StandardScaler\n",
        "ss = StandardScaler()\n",
        "ss.fit(train_input)\n",
        "train_scaled = ss.transform(train_input)\n",
        "test_scaled = ss.transform(test_input)"
      ],
      "metadata": {
        "id": "wmUm1SW0ZkUF"
      },
      "execution_count": 28,
      "outputs": []
    },
    {
      "cell_type": "code",
      "source": [
        "#k-neighbor 확률 예측\n",
        "from sklearn.neighbors import KNeighborsClassifier\n",
        "kn = KNeighborsClassifier(n_neighbors=3)\n",
        "kn.fit(train_scaled, train_target)\n",
        "print(kn.score(train_scaled, train_target))\n",
        "print(kn.score(test_scaled, test_target))"
      ],
      "metadata": {
        "colab": {
          "base_uri": "https://localhost:8080/"
        },
        "id": "x6QLSWH0abV4",
        "outputId": "d4f3b2bd-02a0-48d2-8926-d3407499a76a"
      },
      "execution_count": 29,
      "outputs": [
        {
          "output_type": "stream",
          "name": "stdout",
          "text": [
            "0.8907563025210085\n",
            "0.85\n"
          ]
        }
      ]
    },
    {
      "cell_type": "code",
      "source": [
        "print(kn.classes_) #7개의 클래스 확인"
      ],
      "metadata": {
        "colab": {
          "base_uri": "https://localhost:8080/"
        },
        "id": "INXgxhe3bTCR",
        "outputId": "8afbf35a-1f1f-4f3d-8812-0b7a568c919a"
      },
      "execution_count": 30,
      "outputs": [
        {
          "output_type": "stream",
          "name": "stdout",
          "text": [
            "['Bream' 'Parkki' 'Perch' 'Pike' 'Roach' 'Smelt' 'Whitefish']\n"
          ]
        }
      ]
    },
    {
      "cell_type": "code",
      "source": [
        "print(kn.predict(test_scaled[:5])) #test데이터의 첫 5개의 예측결과 확인"
      ],
      "metadata": {
        "colab": {
          "base_uri": "https://localhost:8080/"
        },
        "id": "NAiX94RwfQYB",
        "outputId": "3c205906-cd9a-4b17-870d-f4ef4cd7fcbd"
      },
      "execution_count": 31,
      "outputs": [
        {
          "output_type": "stream",
          "name": "stdout",
          "text": [
            "['Perch' 'Smelt' 'Pike' 'Perch' 'Perch']\n"
          ]
        }
      ]
    },
    {
      "cell_type": "code",
      "source": [
        "#샘플별 클래스마다 얼마의 확률로 예측했는지 확인\n",
        "proba = kn.predict_proba(test_scaled[:5])\n",
        "print(np.round(proba, decimals=4))"
      ],
      "metadata": {
        "colab": {
          "base_uri": "https://localhost:8080/"
        },
        "id": "Z3B7zgnXfUkC",
        "outputId": "69c3aef0-2e06-4967-941d-68abb00c6a50"
      },
      "execution_count": 32,
      "outputs": [
        {
          "output_type": "stream",
          "name": "stdout",
          "text": [
            "[[0.     0.     1.     0.     0.     0.     0.    ]\n",
            " [0.     0.     0.     0.     0.     1.     0.    ]\n",
            " [0.     0.     0.     1.     0.     0.     0.    ]\n",
            " [0.     0.     0.6667 0.     0.3333 0.     0.    ]\n",
            " [0.     0.     0.6667 0.     0.3333 0.     0.    ]]\n"
          ]
        }
      ]
    },
    {
      "cell_type": "code",
      "source": [
        "#4번째 샘플의 이웃 클래스 확인\n",
        "distances, indexes = kn.kneighbors(test_scaled[3:4])\n",
        "print(train_target[indexes])"
      ],
      "metadata": {
        "colab": {
          "base_uri": "https://localhost:8080/"
        },
        "id": "0iEMdoYagSh5",
        "outputId": "7c2900d9-4828-408f-f869-abccbf0f3dbd"
      },
      "execution_count": 33,
      "outputs": [
        {
          "output_type": "stream",
          "name": "stdout",
          "text": [
            "[['Roach' 'Perch' 'Perch']]\n"
          ]
        }
      ]
    },
    {
      "cell_type": "code",
      "source": [
        "#LogisticRegression (Bream과 Smelt만 이용해서 분류)\n",
        "bream_smelt_indexes = (train_target == 'Bream') | (train_target == 'Smelt')\n",
        "train_bream_smelt = train_scaled[bream_smelt_indexes]\n",
        "target_bream_smelt = train_target[bream_smelt_indexes]\n",
        "from sklearn.linear_model import LogisticRegression\n",
        "lr = LogisticRegression()\n",
        "lr.fit(train_bream_smelt, target_bream_smelt)\n",
        "print(lr.predict(train_bream_smelt[:5]))"
      ],
      "metadata": {
        "id": "PV0ZP62vg-BB",
        "outputId": "6f6ec6f3-5d28-4f82-f734-b352aed1d46d",
        "colab": {
          "base_uri": "https://localhost:8080/"
        }
      },
      "execution_count": 38,
      "outputs": [
        {
          "output_type": "stream",
          "name": "stdout",
          "text": [
            "['Bream' 'Smelt' 'Bream' 'Bream' 'Bream']\n"
          ]
        }
      ]
    },
    {
      "cell_type": "code",
      "source": [
        "#LogisticRegression (7가지 모두 분류)\n",
        "lr = LogisticRegression(C=20, max_iter=1000)\n",
        "lr.fit(train_scaled, train_target)\n",
        "print(lr.score(train_scaled, train_target))\n",
        "print(lr.score(test_scaled, test_target))"
      ],
      "metadata": {
        "id": "69f-IZ547wCL",
        "outputId": "27ee9b36-f6e6-46ac-e7b2-5155150deea6",
        "colab": {
          "base_uri": "https://localhost:8080/"
        }
      },
      "execution_count": 39,
      "outputs": [
        {
          "output_type": "stream",
          "name": "stdout",
          "text": [
            "0.9327731092436975\n",
            "0.925\n"
          ]
        }
      ]
    },
    {
      "cell_type": "code",
      "source": [
        "print(lr.predict(test_scaled[:5]))"
      ],
      "metadata": {
        "id": "_XHPuq7gP11u",
        "outputId": "3304675d-6d0d-4db1-eb6d-240fb8473016",
        "colab": {
          "base_uri": "https://localhost:8080/"
        }
      },
      "execution_count": 40,
      "outputs": [
        {
          "output_type": "stream",
          "name": "stdout",
          "text": [
            "['Perch' 'Smelt' 'Pike' 'Roach' 'Perch']\n"
          ]
        }
      ]
    },
    {
      "cell_type": "code",
      "source": [
        "proba = lr.predict_proba(test_scaled[:5])\n",
        "print(np.round(proba, decimals=3))"
      ],
      "metadata": {
        "id": "MGa1YUuVP8tZ",
        "outputId": "d00c8f95-1530-45b7-89a4-e3779324608b",
        "colab": {
          "base_uri": "https://localhost:8080/"
        }
      },
      "execution_count": 42,
      "outputs": [
        {
          "output_type": "stream",
          "name": "stdout",
          "text": [
            "[[0.    0.014 0.841 0.    0.136 0.007 0.003]\n",
            " [0.    0.003 0.044 0.    0.007 0.946 0.   ]\n",
            " [0.    0.    0.034 0.935 0.015 0.016 0.   ]\n",
            " [0.011 0.034 0.306 0.007 0.567 0.    0.076]\n",
            " [0.    0.    0.904 0.002 0.089 0.002 0.001]]\n"
          ]
        }
      ]
    },
    {
      "cell_type": "code",
      "source": [
        "#소프트맥스 함수를 이용하여 확률 변환\n",
        "decision = lr.decision_function(test_scaled[:5])\n",
        "print(np.round(decision, decimals=2))"
      ],
      "metadata": {
        "id": "omZsh6JrQFm7",
        "outputId": "1764ba71-1134-46b7-8c0b-9f4f2948339b",
        "colab": {
          "base_uri": "https://localhost:8080/"
        }
      },
      "execution_count": 43,
      "outputs": [
        {
          "output_type": "stream",
          "name": "stdout",
          "text": [
            "[[ -6.5    1.03   5.16  -2.73   3.34   0.33  -0.63]\n",
            " [-10.86   1.93   4.77  -2.4    2.98   7.84  -4.26]\n",
            " [ -4.34  -6.23   3.17   6.49   2.36   2.42  -3.87]\n",
            " [ -0.68   0.45   2.65  -1.19   3.26  -5.75   1.26]\n",
            " [ -6.4   -1.99   5.82  -0.11   3.5   -0.11  -0.71]]\n"
          ]
        }
      ]
    },
    {
      "cell_type": "code",
      "source": [
        "from scipy.special import softmax\n",
        "proba = softmax(decision, axis=1)\n",
        "print(np.round(proba, decimals=3))"
      ],
      "metadata": {
        "id": "eUS7Uw9TQf06",
        "outputId": "888c67ff-0264-4a7e-c57a-dbd2ae0f52ca",
        "colab": {
          "base_uri": "https://localhost:8080/"
        }
      },
      "execution_count": 44,
      "outputs": [
        {
          "output_type": "stream",
          "name": "stdout",
          "text": [
            "[[0.    0.014 0.841 0.    0.136 0.007 0.003]\n",
            " [0.    0.003 0.044 0.    0.007 0.946 0.   ]\n",
            " [0.    0.    0.034 0.935 0.015 0.016 0.   ]\n",
            " [0.011 0.034 0.306 0.007 0.567 0.    0.076]\n",
            " [0.    0.    0.904 0.002 0.089 0.002 0.001]]\n"
          ]
        }
      ]
    }
  ]
}